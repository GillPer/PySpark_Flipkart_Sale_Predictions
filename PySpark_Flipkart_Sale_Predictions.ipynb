{
  "nbformat": 4,
  "nbformat_minor": 0,
  "metadata": {
    "colab": {
      "provenance": []
    },
    "kernelspec": {
      "name": "python3",
      "display_name": "Python 3"
    },
    "language_info": {
      "name": "python"
    }
  },
  "cells": [
    {
      "cell_type": "code",
      "execution_count": null,
      "metadata": {
        "colab": {
          "base_uri": "https://localhost:8080/"
        },
        "id": "d_N0H-08fZ5y",
        "outputId": "ff37f109-58e4-422b-efb4-1dc497d16e13"
      },
      "outputs": [
        {
          "output_type": "stream",
          "name": "stdout",
          "text": [
            "Collecting pyspark\n",
            "  Downloading pyspark-3.5.3.tar.gz (317.3 MB)\n",
            "\u001b[2K     \u001b[90m━━━━━━━━━━━━━━━━━━━━━━━━━━━━━━━━━━━━━━━━\u001b[0m \u001b[32m317.3/317.3 MB\u001b[0m \u001b[31m4.2 MB/s\u001b[0m eta \u001b[36m0:00:00\u001b[0m\n",
            "\u001b[?25h  Preparing metadata (setup.py) ... \u001b[?25l\u001b[?25hdone\n",
            "Requirement already satisfied: py4j==0.10.9.7 in /usr/local/lib/python3.10/dist-packages (from pyspark) (0.10.9.7)\n",
            "Building wheels for collected packages: pyspark\n",
            "  Building wheel for pyspark (setup.py) ... \u001b[?25l\u001b[?25hdone\n",
            "  Created wheel for pyspark: filename=pyspark-3.5.3-py2.py3-none-any.whl size=317840625 sha256=0c952264e954b5c4ad68c1553471b5d6ad362bc9b266a6f48ca95dcf946bafca\n",
            "  Stored in directory: /root/.cache/pip/wheels/1b/3a/92/28b93e2fbfdbb07509ca4d6f50c5e407f48dce4ddbda69a4ab\n",
            "Successfully built pyspark\n",
            "Installing collected packages: pyspark\n",
            "Successfully installed pyspark-3.5.3\n"
          ]
        }
      ],
      "source": [
        "pip install pyspark"
      ]
    },
    {
      "cell_type": "code",
      "source": [
        "# Import necessary PySpark libraries\n",
        "from pyspark.sql import SparkSession\n",
        "from pyspark.sql.functions import col, udf\n",
        "from pyspark.sql.types import DoubleType\n",
        "\n",
        "# Initialize Spark session\n",
        "spark = SparkSession.builder \\\n",
        "    .appName(\"Flipkart Sale Discount Prediction\") \\\n",
        "    .getOrCreate()\n"
      ],
      "metadata": {
        "id": "oJS6L2KQfiqI"
      },
      "execution_count": null,
      "outputs": []
    },
    {
      "cell_type": "code",
      "source": [
        "# Load train dataset\n",
        "train_data = spark.read.csv(\"/content/train.csv\", header=True, inferSchema=True)\n",
        "\n",
        "# Load test dataset\n",
        "test_data = spark.read.csv(\"/content/test.csv\", header=True, inferSchema=True)\n",
        "\n",
        "# Show the first few rows\n",
        "train_data.show(5)\n",
        "test_data.show(5)\n"
      ],
      "metadata": {
        "colab": {
          "base_uri": "https://localhost:8080/"
        },
        "id": "ry3y5fLWfxqd",
        "outputId": "c24a77f0-0e78-407a-c568-03b2f5e66508"
      },
      "execution_count": null,
      "outputs": [
        {
          "output_type": "stream",
          "name": "stdout",
          "text": [
            "+-----+--------------------+------+---------+--------+------+---------+-------+---------+----------+-------+-------+-------+-------+-------+----------+\n",
            "|   id|               title|Rating|maincateg|platform|price1|actprice1|Offer %|norating1|noreviews1|star_5f|star_4f|star_3f|star_2f|star_1f|fulfilled1|\n",
            "+-----+--------------------+------+---------+--------+------+---------+-------+---------+----------+-------+-------+-------+-------+-------+----------+\n",
            "|16695|Fashionable & Com...|   3.9|    Women|Flipkart|   698|      999| 0.3013|       38|         7|     17|      9|      6|      3|      3|         0|\n",
            "| 5120|Combo Pack of 4 C...|   3.8|      Men|Flipkart|   999|     1999| 0.5003|      531|        69|    264|     92|     73|     29|     73|         1|\n",
            "|18391|Cilia Mode Leo Sn...|   4.4|    Women|Flipkart|  2749|     4999| 0.4501|       17|         4|     11|      3|      2|      1|      0|         1|\n",
            "|  495|Men Black Sports ...|   4.2|      Men|Flipkart|   518|      724| 0.1585|    46413|      6229|   1045|  12416|   5352|    701|   4595|         1|\n",
            "|16408|Men Green Sports ...|   3.9|      Men|Flipkart|  1379|     2299| 0.4002|       77|         3|     35|     21|      7|      7|      7|         1|\n",
            "+-----+--------------------+------+---------+--------+------+---------+-------+---------+----------+-------+-------+-------+-------+-------+----------+\n",
            "only showing top 5 rows\n",
            "\n",
            "+-----+--------------------+------+---------+--------+---------+---------+----------+-------+-------+-------+-------+-------+----------+\n",
            "|   id|               title|Rating|maincateg|platform|actprice1|norating1|noreviews1|star_5f|star_4f|star_3f|star_2f|star_1f|fulfilled1|\n",
            "+-----+--------------------+------+---------+--------+---------+---------+----------+-------+-------+-------+-------+-------+----------+\n",
            "| 2242|Casuals For Men  ...|   3.8|      Men|Flipkart|      999|    27928|      3543|  14238|   4295|   3457|   1962|   3976|         1|\n",
            "|20532|Women Black Flats...|   3.9|    Women|Flipkart|      499|     3015|       404|   1458|    657|    397|    182|    321|         1|\n",
            "|10648|Women Gold Wedges...|   3.9|    Women|Flipkart|      999|      449|        52|    229|     70|     71|     33|     46|         1|\n",
            "|20677|Men's Height Incr...|   3.9|      Men|Flipkart|     2999|      290|        40|    141|     51|     49|     17|     32|         1|\n",
            "|12593|Loafers For Men  ...|   3.9|      Men|Flipkart|      999|     2423|       326|   1265|    414|    293|    143|    308|         0|\n",
            "+-----+--------------------+------+---------+--------+---------+---------+----------+-------+-------+-------+-------+-------+----------+\n",
            "only showing top 5 rows\n",
            "\n"
          ]
        }
      ]
    },
    {
      "cell_type": "code",
      "source": [
        "# Checking for missing values in the dataset\n",
        "train_data.select([col(c).isNull().alias(c) for c in train_data.columns]).show()\n"
      ],
      "metadata": {
        "colab": {
          "base_uri": "https://localhost:8080/"
        },
        "id": "lWjD6vFwf3_G",
        "outputId": "7466a8be-4cf6-4b17-adc7-3d59fdb94973"
      },
      "execution_count": null,
      "outputs": [
        {
          "output_type": "stream",
          "name": "stdout",
          "text": [
            "+-----+-----+------+---------+--------+------+---------+-------+---------+----------+-------+-------+-------+-------+-------+----------+\n",
            "|   id|title|Rating|maincateg|platform|price1|actprice1|Offer %|norating1|noreviews1|star_5f|star_4f|star_3f|star_2f|star_1f|fulfilled1|\n",
            "+-----+-----+------+---------+--------+------+---------+-------+---------+----------+-------+-------+-------+-------+-------+----------+\n",
            "|false|false| false|    false|   false| false|    false|  false|    false|     false|  false|  false|  false|  false|  false|     false|\n",
            "|false|false| false|    false|   false| false|    false|  false|    false|     false|  false|  false|  false|  false|  false|     false|\n",
            "|false|false| false|    false|   false| false|    false|  false|    false|     false|  false|  false|  false|  false|  false|     false|\n",
            "|false|false| false|    false|   false| false|    false|  false|    false|     false|  false|  false|  false|  false|  false|     false|\n",
            "|false|false| false|    false|   false| false|    false|  false|    false|     false|  false|  false|  false|  false|  false|     false|\n",
            "|false|false| false|    false|   false| false|    false|  false|    false|     false|  false|  false|  false|  false|  false|     false|\n",
            "|false|false| false|    false|   false| false|    false|  false|    false|     false|  false|  false|  false|  false|  false|     false|\n",
            "|false|false| false|    false|   false| false|    false|  false|    false|     false|  false|  false|  false|  false|  false|     false|\n",
            "|false|false| false|    false|   false| false|    false|  false|    false|     false|  false|  false|  false|  false|  false|     false|\n",
            "|false|false| false|    false|   false| false|    false|  false|    false|     false|  false|  false|  false|  false|  false|     false|\n",
            "|false|false| false|    false|   false| false|    false|  false|    false|     false|  false|  false|  false|  false|  false|     false|\n",
            "|false|false| false|    false|   false| false|    false|  false|    false|     false|  false|  false|  false|  false|  false|     false|\n",
            "|false|false| false|    false|   false| false|    false|  false|    false|     false|  false|  false|  false|  false|  false|     false|\n",
            "|false|false| false|    false|   false| false|    false|  false|    false|     false|  false|  false|  false|  false|  false|     false|\n",
            "|false|false| false|    false|   false| false|    false|  false|    false|     false|  false|  false|  false|  false|  false|     false|\n",
            "|false|false| false|    false|   false| false|    false|  false|    false|     false|  false|  false|  false|  false|  false|     false|\n",
            "|false|false| false|    false|   false| false|    false|  false|    false|     false|  false|  false|  false|  false|  false|     false|\n",
            "|false|false| false|    false|   false| false|    false|  false|    false|     false|  false|  false|  false|  false|  false|     false|\n",
            "|false|false| false|    false|   false| false|    false|  false|    false|     false|  false|  false|  false|  false|  false|     false|\n",
            "|false|false| false|    false|   false| false|    false|  false|    false|     false|  false|  false|  false|  false|  false|     false|\n",
            "+-----+-----+------+---------+--------+------+---------+-------+---------+----------+-------+-------+-------+-------+-------+----------+\n",
            "only showing top 20 rows\n",
            "\n"
          ]
        }
      ]
    },
    {
      "cell_type": "code",
      "source": [
        "# Replace null values with mean or mode (depending on the column type)\n",
        "from pyspark.sql.functions import mean\n",
        "\n",
        "# Example: Filling missing values in the 'Rating' column with the mean rating\n",
        "mean_rating = train_data.select(mean(col('Rating'))).collect()[0][0]\n",
        "train_data = train_data.na.fill({'Rating': mean_rating})\n"
      ],
      "metadata": {
        "id": "ETmtYNNqgSk7"
      },
      "execution_count": null,
      "outputs": []
    },
    {
      "cell_type": "code",
      "source": [
        "# Create a new column 'Price Difference'\n",
        "from pyspark.sql.functions import col, when\n",
        "train_data = train_data.withColumn(\"Price_Difference\", col('actprice1') - col('price1'))\n",
        "\n",
        "# Create a rating category column\n",
        "train_data = train_data.withColumn(\"Rating_Category\",\n",
        "                                   when(col('Rating') >= 4.5, \"Excellent\")\n",
        "                                   .when(col('Rating') >= 4, \"Good\")\n",
        "                                   .when(col('Rating') >= 3.5, \"Average\")\n",
        "                                   .otherwise(\"Poor\"))\n"
      ],
      "metadata": {
        "id": "LoytYjCHgVC4"
      },
      "execution_count": null,
      "outputs": []
    },
    {
      "cell_type": "code",
      "source": [
        "from pyspark.ml.feature import VectorAssembler\n",
        "from pyspark.ml.regression import LinearRegression\n",
        "\n",
        "# Define the features for the model\n",
        "feature_columns = ['price1', 'norating1', 'noreviews1', 'star_5f', 'star_4f', 'star_3f']\n",
        "\n",
        "# Assemble feature columns into a feature vector\n",
        "assembler = VectorAssembler(inputCols=feature_columns, outputCol=\"features\")\n",
        "\n",
        "train_data = assembler.transform(train_data)\n",
        "\n",
        "# Select final features and label\n",
        "train_data = train_data.select(\"features\", col(\"Offer %\").alias(\"label\"))\n",
        "train_data.show(5)"
      ],
      "metadata": {
        "colab": {
          "base_uri": "https://localhost:8080/"
        },
        "id": "v3VRVKDJgYTx",
        "outputId": "9394b71b-626c-49f8-ee6c-90bc52d4c4e1"
      },
      "execution_count": null,
      "outputs": [
        {
          "output_type": "stream",
          "name": "stdout",
          "text": [
            "+--------------------+------+\n",
            "|            features| label|\n",
            "+--------------------+------+\n",
            "|[698.0,38.0,7.0,1...|0.3013|\n",
            "|[999.0,531.0,69.0...|0.5003|\n",
            "|[2749.0,17.0,4.0,...|0.4501|\n",
            "|[518.0,46413.0,62...|0.1585|\n",
            "|[1379.0,77.0,3.0,...|0.4002|\n",
            "+--------------------+------+\n",
            "only showing top 5 rows\n",
            "\n"
          ]
        }
      ]
    },
    {
      "cell_type": "code",
      "source": [
        "train, test = train_data.randomSplit([0.8, 0.2], seed=12345)\n",
        "lr = LinearRegression(featuresCol=\"features\", labelCol=\"label\")\n",
        "\n",
        "# Train the model\n",
        "lr_model = lr.fit(train)"
      ],
      "metadata": {
        "id": "72Vj8thigisC"
      },
      "execution_count": null,
      "outputs": []
    },
    {
      "cell_type": "code",
      "source": [
        "predictions = lr_model.transform(test)\n",
        "\n",
        "# Evaluate the model\n",
        "from pyspark.ml.evaluation import RegressionEvaluator\n",
        "\n",
        "evaluator = RegressionEvaluator(labelCol=\"label\", predictionCol=\"prediction\", metricName=\"rmse\")\n",
        "rmse = evaluator.evaluate(predictions)\n",
        "\n",
        "print(f\"Root Mean Squared Error (RMSE): {rmse}\")"
      ],
      "metadata": {
        "colab": {
          "base_uri": "https://localhost:8080/"
        },
        "id": "alQBlm5Igs0N",
        "outputId": "4a864165-ef6b-48f6-ebf1-b3c76134746c"
      },
      "execution_count": null,
      "outputs": [
        {
          "output_type": "stream",
          "name": "stdout",
          "text": [
            "Root Mean Squared Error (RMSE): 0.1883555768817478\n"
          ]
        }
      ]
    },
    {
      "cell_type": "code",
      "source": [],
      "metadata": {
        "id": "Hwa--9ARgxt_"
      },
      "execution_count": null,
      "outputs": []
    }
  ]
}